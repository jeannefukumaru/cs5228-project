{
 "cells": [
  {
   "cell_type": "code",
   "execution_count": 1,
   "metadata": {},
   "outputs": [],
   "source": [
    "import pandas as pd \n",
    "import nltk\n",
    "from snorkel.labeling import PandasLFApplier, labeling_function, LFAnalysis\n",
    "from snorkel.labeling.model import MajorityLabelVoter, LabelModel\n",
    "from snorkel.labeling import filter_unlabeled_dataframe\n",
    "from snorkel.utils import probs_to_preds\n",
    "import numpy as np\n",
    "import matplotlib.pyplot as plt \n",
    "from labeling_funcs.bbc_lfs import * \n",
    "from run_lgreg_utils import *\n",
    "from plotting_funcs import plot_label_frequency, plot_probabilities_histogram\n",
    "from mlflow import log_metric, log_param, log_artifacts\n",
    "import mlflow\n",
    "from datetime import datetime\n",
    "import os \n",
    "from sklearn.metrics import precision_recall_fscore_support\n",
    "from sklearn.feature_extraction.text import CountVectorizer, TfidfVectorizer\n",
    "from sklearn.feature_extraction import text\n",
    "from sklearn.linear_model import LogisticRegressionCV\n",
    "from run_lgreg_utils import read_data_from_config\n",
    "from lgreg_config import bbc_config as config\n",
    "import warnings\n",
    "warnings.filterwarnings(action='ignore')\n",
    "pd.options.display.max_colwidth = 200"
   ]
  },
  {
   "cell_type": "code",
   "execution_count": 2,
   "metadata": {},
   "outputs": [],
   "source": [
    "POLITICS = 4\n",
    "ENTERTAINMENT = 3\n",
    "SPORT = 2\n",
    "BUSINESS = 1\n",
    "TECH = 0\n",
    "ABSTAIN = -1\n",
    "\n",
    "kmeans = joblib.load('bbc_kmeans.joblib')\n",
    "vectorizer = joblib.load('tfidf.joblib')\n",
    "\n",
    "bbc_stop_words = ['said', 'people', 'new', 'mr']\n",
    "custom_stop_words = text.ENGLISH_STOP_WORDS.union(bbc_stop_words)"
   ]
  },
  {
   "cell_type": "code",
   "execution_count": 3,
   "metadata": {},
   "outputs": [
    {
     "name": "stdout",
     "output_type": "stream",
     "text": [
      "reading in data...\n"
     ]
    }
   ],
   "source": [
    "lfs = config['lfs']\n",
    "\n",
    "print('reading in data...')\n",
    "X_train, y_train, X_dev, y_dev = read_data_from_config(config)"
   ]
  },
  {
   "cell_type": "code",
   "execution_count": 5,
   "metadata": {},
   "outputs": [
    {
     "name": "stderr",
     "output_type": "stream",
     "text": [
      "100%|██████████| 1668/1668 [00:14<00:00, 114.56it/s]\n",
      "100%|██████████| 557/557 [00:04<00:00, 114.10it/s]\n"
     ]
    },
    {
     "name": "stdout",
     "output_type": "stream",
     "text": [
      "fitting Label Model\n"
     ]
    }
   ],
   "source": [
    "applier = PandasLFApplier(lfs=lfs)\n",
    "L_train = applier.apply(df=X_train)\n",
    "L_dev = applier.apply(df=X_dev)\n",
    "\n",
    "print('fitting Label Model')\n",
    "label_model = LabelModel(cardinality=config['cardinality'], verbose=True)\n",
    "label_model.fit(L_train=L_train, n_epochs=500, log_freq=100, seed=123)"
   ]
  },
  {
   "cell_type": "code",
   "execution_count": 6,
   "metadata": {},
   "outputs": [
    {
     "data": {
      "text/plain": [
       "0.8132854578096947"
      ]
     },
     "execution_count": 6,
     "metadata": {},
     "output_type": "execute_result"
    }
   ],
   "source": [
    "label_model.score(L_dev, y_dev, tie_break_policy=\"random\")[\"accuracy\"]"
   ]
  },
  {
   "cell_type": "code",
   "execution_count": 8,
   "metadata": {},
   "outputs": [
    {
     "name": "stdout",
     "output_type": "stream",
     "text": [
      "[[257  24  11   1   8]\n",
      " [  9 369   0   2   2]\n",
      " [  0   1 376   0   6]\n",
      " [  7  52   2 197  31]\n",
      " [  4 125   1   0 183]]\n",
      "0.8285371702637889\n",
      "(array([0.92779783, 0.64623468, 0.96410256, 0.985     , 0.79565217]), array([0.8538206 , 0.96596859, 0.98172324, 0.6816609 , 0.58466454]), array([0.88927336, 0.77439664, 0.97283312, 0.80572597, 0.67403315]), array([301, 382, 383, 289, 313]))\n",
      "[[ 85   4   7   1   3]\n",
      " [  3 124   1   0   0]\n",
      " [  0   0 125   1   2]\n",
      " [  1  21   0  64  11]\n",
      " [  0  49   0   0  55]]\n",
      "(array([0.95505618, 0.62626263, 0.93984962, 0.96969697, 0.77464789]), array([0.85      , 0.96875   , 0.9765625 , 0.65979381, 0.52884615]), array([0.8994709 , 0.7607362 , 0.95785441, 0.78527607, 0.62857143]), array([100, 128, 128,  97, 104]))\n",
      "0.8132854578096947\n"
     ]
    }
   ],
   "source": [
    "probs_train = label_model.predict_proba(L=L_train)\n",
    "preds_train = probs_to_preds(probs=probs_train)\n",
    "from sklearn.metrics import confusion_matrix, precision_recall_fscore_support, accuracy_score\n",
    "import seaborn as sns\n",
    "print(confusion_matrix(y_train,preds_train, labels=[0, 1, 2, 3, 4]))\n",
    "print(accuracy_score(y_train, preds_train))\n",
    "# sns.heatmap(cm.astype(np.int32), annot=True)\n",
    "print(precision_recall_fscore_support(y_train,preds_train))\n",
    "probs_dev = label_model.predict_proba(L=L_dev)\n",
    "preds_dev = probs_to_preds(probs=probs_dev)\n",
    "print(confusion_matrix(y_dev,preds_dev, labels=[0, 1, 2, 3, 4]))\n",
    "print(precision_recall_fscore_support(y_dev,preds_dev))\n",
    "print(accuracy_score(y_dev, preds_dev))"
   ]
  },
  {
   "cell_type": "code",
   "execution_count": 10,
   "metadata": {},
   "outputs": [
    {
     "name": "stdout",
     "output_type": "stream",
     "text": [
      "               precision    recall  f1-score   support\n",
      "\n",
      "         tech       0.96      0.85      0.90       100\n",
      "     business       0.63      0.97      0.76       128\n",
      "        sport       0.94      0.98      0.96       128\n",
      "entertainment       0.97      0.66      0.79        97\n",
      "     politics       0.77      0.53      0.63       104\n",
      "\n",
      "     accuracy                           0.81       557\n",
      "    macro avg       0.85      0.80      0.81       557\n",
      " weighted avg       0.84      0.81      0.81       557\n",
      "\n"
     ]
    }
   ],
   "source": [
    "from sklearn.metrics import classification_report\n",
    "target_names=['tech', 'business', 'sport', 'entertainment', 'politics']\n",
    "print(classification_report(y_dev, preds_dev, target_names=target_names))"
   ]
  },
  {
   "cell_type": "code",
   "execution_count": 11,
   "metadata": {},
   "outputs": [
    {
     "data": {
      "text/html": [
       "<div>\n",
       "<style scoped>\n",
       "    .dataframe tbody tr th:only-of-type {\n",
       "        vertical-align: middle;\n",
       "    }\n",
       "\n",
       "    .dataframe tbody tr th {\n",
       "        vertical-align: top;\n",
       "    }\n",
       "\n",
       "    .dataframe thead th {\n",
       "        text-align: right;\n",
       "    }\n",
       "</style>\n",
       "<table border=\"1\" class=\"dataframe\">\n",
       "  <thead>\n",
       "    <tr style=\"text-align: right;\">\n",
       "      <th></th>\n",
       "      <th>j</th>\n",
       "      <th>Polarity</th>\n",
       "      <th>Coverage</th>\n",
       "      <th>Overlaps</th>\n",
       "      <th>Conflicts</th>\n",
       "    </tr>\n",
       "  </thead>\n",
       "  <tbody>\n",
       "    <tr>\n",
       "      <th>lf_contains_tech_terms</th>\n",
       "      <td>0</td>\n",
       "      <td>[0]</td>\n",
       "      <td>0.265588</td>\n",
       "      <td>0.265588</td>\n",
       "      <td>0.197242</td>\n",
       "    </tr>\n",
       "    <tr>\n",
       "      <th>lf_contains_business_terms</th>\n",
       "      <td>1</td>\n",
       "      <td>[1]</td>\n",
       "      <td>0.428058</td>\n",
       "      <td>0.428058</td>\n",
       "      <td>0.329736</td>\n",
       "    </tr>\n",
       "    <tr>\n",
       "      <th>lf_contains_sport_terms</th>\n",
       "      <td>2</td>\n",
       "      <td>[2]</td>\n",
       "      <td>0.269784</td>\n",
       "      <td>0.269784</td>\n",
       "      <td>0.151679</td>\n",
       "    </tr>\n",
       "    <tr>\n",
       "      <th>lf_contains_entertainment_terms</th>\n",
       "      <td>3</td>\n",
       "      <td>[3]</td>\n",
       "      <td>0.129496</td>\n",
       "      <td>0.129496</td>\n",
       "      <td>0.062950</td>\n",
       "    </tr>\n",
       "    <tr>\n",
       "      <th>lf_contains_politics_terms</th>\n",
       "      <td>4</td>\n",
       "      <td>[4]</td>\n",
       "      <td>0.293165</td>\n",
       "      <td>0.293165</td>\n",
       "      <td>0.261990</td>\n",
       "    </tr>\n",
       "    <tr>\n",
       "      <th>lf_kmeans_label_0</th>\n",
       "      <td>5</td>\n",
       "      <td>[2]</td>\n",
       "      <td>0.238609</td>\n",
       "      <td>0.190647</td>\n",
       "      <td>0.072542</td>\n",
       "    </tr>\n",
       "    <tr>\n",
       "      <th>lf_kmeans_label_1</th>\n",
       "      <td>6</td>\n",
       "      <td>[0]</td>\n",
       "      <td>0.166067</td>\n",
       "      <td>0.141487</td>\n",
       "      <td>0.073141</td>\n",
       "    </tr>\n",
       "    <tr>\n",
       "      <th>lf_kmeans_label_2</th>\n",
       "      <td>7</td>\n",
       "      <td>[3]</td>\n",
       "      <td>0.118106</td>\n",
       "      <td>0.091727</td>\n",
       "      <td>0.025180</td>\n",
       "    </tr>\n",
       "    <tr>\n",
       "      <th>lf_kmeans_label_3</th>\n",
       "      <td>8</td>\n",
       "      <td>[1]</td>\n",
       "      <td>0.366906</td>\n",
       "      <td>0.296763</td>\n",
       "      <td>0.198441</td>\n",
       "    </tr>\n",
       "    <tr>\n",
       "      <th>lf_kmeans_label_4</th>\n",
       "      <td>9</td>\n",
       "      <td>[4]</td>\n",
       "      <td>0.110312</td>\n",
       "      <td>0.109712</td>\n",
       "      <td>0.078537</td>\n",
       "    </tr>\n",
       "  </tbody>\n",
       "</table>\n",
       "</div>"
      ],
      "text/plain": [
       "                                 j Polarity  Coverage  Overlaps  Conflicts\n",
       "lf_contains_tech_terms           0      [0]  0.265588  0.265588   0.197242\n",
       "lf_contains_business_terms       1      [1]  0.428058  0.428058   0.329736\n",
       "lf_contains_sport_terms          2      [2]  0.269784  0.269784   0.151679\n",
       "lf_contains_entertainment_terms  3      [3]  0.129496  0.129496   0.062950\n",
       "lf_contains_politics_terms       4      [4]  0.293165  0.293165   0.261990\n",
       "lf_kmeans_label_0                5      [2]  0.238609  0.190647   0.072542\n",
       "lf_kmeans_label_1                6      [0]  0.166067  0.141487   0.073141\n",
       "lf_kmeans_label_2                7      [3]  0.118106  0.091727   0.025180\n",
       "lf_kmeans_label_3                8      [1]  0.366906  0.296763   0.198441\n",
       "lf_kmeans_label_4                9      [4]  0.110312  0.109712   0.078537"
      ]
     },
     "execution_count": 11,
     "metadata": {},
     "output_type": "execute_result"
    }
   ],
   "source": [
    "LFAnalysis(L=L_train, lfs=lfs).lf_summary()"
   ]
  },
  {
   "cell_type": "code",
   "execution_count": 23,
   "metadata": {},
   "outputs": [
    {
     "data": {
      "image/png": "[encoded data removed]",
      "text/plain": [
       "<Figure size 288x252 with 1 Axes>"
      ]
     },
     "metadata": {
      "needs_background": "light"
     },
     "output_type": "display_data"
    }
   ],
   "source": [
    "def plot_label_frequency(L):\n",
    "    plt.figure(figsize=(4., 3.5))\n",
    "    plt.hist((L != ABSTAIN).sum(axis=1), density=True, bins=range(L.shape[1]))\n",
    "    plt.xlabel(\"Number of labels\")\n",
    "    plt.ylabel(\"Fraction of dataset\")\n",
    "    plt.tight_layout()\n",
    "    plt.savefig(f'figures/bbc_lfs_label_freq.png', dpi=500)\n",
    "    plt.show()\n",
    "\n",
    "\n",
    "plot_label_frequency(L_train)"
   ]
  },
  {
   "cell_type": "code",
   "execution_count": 25,
   "metadata": {},
   "outputs": [
    {
     "data": {
      "image/png": "[encoded data removed]",
      "text/plain": [
       "<Figure size 288x252 with 1 Axes>"
      ]
     },
     "metadata": {
      "needs_background": "light"
     },
     "output_type": "display_data"
    }
   ],
   "source": [
    "def plot_probabilities_histogram(label_text, savefile, Y):\n",
    "    plt.figure(figsize=(4., 3.5))\n",
    "    plt.hist(Y, bins=10)\n",
    "    plt.xlabel(f'Probability of {label_text}')\n",
    "    plt.ylabel(\"Number of data points\")\n",
    "    plt.title(f'Predicted probabilities for {label_text} articles')\n",
    "    plt.tight_layout()\n",
    "    plt.savefig(f'figures/{savefile}', dpi=500)\n",
    "    plt.show()\n",
    "\n",
    "\n",
    "probs_train = label_model.predict_proba(L=L_train)\n",
    "plot_probabilities_histogram('TECH', 'bbc_pred_proba_tech.png', probs_train[:, TECH])"
   ]
  },
  {
   "cell_type": "code",
   "execution_count": 26,
   "metadata": {},
   "outputs": [
    {
     "data": {
      "image/png": "[encoded data removed]",
      "text/plain": [
       "<Figure size 288x252 with 1 Axes>"
      ]
     },
     "metadata": {
      "needs_background": "light"
     },
     "output_type": "display_data"
    }
   ],
   "source": [
    "plot_probabilities_histogram('BUSINESS', 'bbc_pred_proba_business.png', probs_train[:, BUSINESS])"
   ]
  },
  {
   "cell_type": "code",
   "execution_count": 27,
   "metadata": {},
   "outputs": [
    {
     "data": {
      "image/png": "[encoded data removed]",
      "text/plain": [
       "<Figure size 288x252 with 1 Axes>"
      ]
     },
     "metadata": {
      "needs_background": "light"
     },
     "output_type": "display_data"
    }
   ],
   "source": [
    "plot_probabilities_histogram('SPORT', 'bbc_pred_proba_sport.png', probs_train[:, SPORT])"
   ]
  },
  {
   "cell_type": "code",
   "execution_count": 28,
   "metadata": {},
   "outputs": [
    {
     "data": {
      "image/png": "[encoded data removed]",
      "text/plain": [
       "<Figure size 288x252 with 1 Axes>"
      ]
     },
     "metadata": {
      "needs_background": "light"
     },
     "output_type": "display_data"
    }
   ],
   "source": [
    "plot_probabilities_histogram('ENTERTAINMENT', 'bbc_pred_proba_entertainment.png', probs_train[:, ENTERTAINMENT])"
   ]
  },
  {
   "cell_type": "code",
   "execution_count": 29,
   "metadata": {},
   "outputs": [
    {
     "data": {
      "image/png": "[encoded data removed]",
      "text/plain": [
       "<Figure size 288x252 with 1 Axes>"
      ]
     },
     "metadata": {
      "needs_background": "light"
     },
     "output_type": "display_data"
    }
   ],
   "source": [
    "plot_probabilities_histogram('POLITICS', 'bbc_pred_proba_politics.png', probs_train[:, POLITICS])"
   ]
  },
  {
   "cell_type": "code",
   "execution_count": null,
   "metadata": {},
   "outputs": [],
   "source": []
  }
 ],
 "metadata": {
  "kernelspec": {
   "display_name": "Python 3",
   "language": "python",
   "name": "python3"
  },
  "language_info": {
   "codemirror_mode": {
    "name": "ipython",
    "version": 3
   },
   "file_extension": ".py",
   "mimetype": "text/x-python",
   "name": "python",
   "nbconvert_exporter": "python",
   "pygments_lexer": "ipython3",
   "version": "3.7.6"
  }
 },
 "nbformat": 4,
 "nbformat_minor": 4
}
